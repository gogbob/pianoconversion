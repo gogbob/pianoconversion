{
  "cells": [
    {
      "cell_type": "markdown",
      "metadata": {
        "id": "view-in-github",
        "colab_type": "text"
      },
      "source": [
        "<a href=\"https://colab.research.google.com/github/gogbob/pianoconversion/blob/main/AI%20pianotranscriber.ipynb\" target=\"_parent\"><img src=\"https://colab.research.google.com/assets/colab-badge.svg\" alt=\"Open In Colab\"/></a>"
      ]
    },
    {
      "cell_type": "markdown",
      "metadata": {
        "id": "y_-5ke9l_9iC"
      },
      "source": []
    },
    {
      "cell_type": "code",
      "source": [
        "!pip show librosa"
      ],
      "metadata": {
        "id": "rZtiNBzkMBIK",
        "outputId": "137e901b-2c68-407d-ce85-a5d52930fd0c",
        "colab": {
          "base_uri": "https://localhost:8080/"
        }
      },
      "execution_count": null,
      "outputs": [
        {
          "output_type": "stream",
          "name": "stdout",
          "text": [
            "Name: librosa\n",
            "Version: 0.10.2.post1\n",
            "Summary: Python module for audio and music processing\n",
            "Home-page: https://librosa.org\n",
            "Author: Brian McFee, librosa development team\n",
            "Author-email: brian.mcfee@nyu.edu\n",
            "License: ISC\n",
            "Location: /usr/local/lib/python3.10/dist-packages\n",
            "Requires: audioread, decorator, joblib, lazy-loader, msgpack, numba, numpy, pooch, scikit-learn, scipy, soundfile, soxr, typing-extensions\n",
            "Required-by: \n"
          ]
        }
      ]
    },
    {
      "cell_type": "code",
      "source": [
        "!pip install ipdb"
      ],
      "metadata": {
        "colab": {
          "base_uri": "https://localhost:8080/"
        },
        "id": "5TUEKLapyTT0",
        "outputId": "e035bf30-cba5-4077-cedd-a1010b6ace26"
      },
      "execution_count": null,
      "outputs": [
        {
          "output_type": "stream",
          "name": "stdout",
          "text": [
            "Requirement already satisfied: ipdb in /usr/local/lib/python3.10/dist-packages (0.13.13)\n",
            "Requirement already satisfied: ipython>=7.31.1 in /usr/local/lib/python3.10/dist-packages (from ipdb) (7.34.0)\n",
            "Requirement already satisfied: tomli in /usr/local/lib/python3.10/dist-packages (from ipdb) (2.2.1)\n",
            "Requirement already satisfied: decorator in /usr/local/lib/python3.10/dist-packages (from ipdb) (4.4.2)\n",
            "Requirement already satisfied: setuptools>=18.5 in /usr/local/lib/python3.10/dist-packages (from ipython>=7.31.1->ipdb) (75.1.0)\n",
            "Requirement already satisfied: jedi>=0.16 in /usr/local/lib/python3.10/dist-packages (from ipython>=7.31.1->ipdb) (0.19.2)\n",
            "Requirement already satisfied: pickleshare in /usr/local/lib/python3.10/dist-packages (from ipython>=7.31.1->ipdb) (0.7.5)\n",
            "Requirement already satisfied: traitlets>=4.2 in /usr/local/lib/python3.10/dist-packages (from ipython>=7.31.1->ipdb) (5.7.1)\n",
            "Requirement already satisfied: prompt-toolkit!=3.0.0,!=3.0.1,<3.1.0,>=2.0.0 in /usr/local/lib/python3.10/dist-packages (from ipython>=7.31.1->ipdb) (3.0.48)\n",
            "Requirement already satisfied: pygments in /usr/local/lib/python3.10/dist-packages (from ipython>=7.31.1->ipdb) (2.18.0)\n",
            "Requirement already satisfied: backcall in /usr/local/lib/python3.10/dist-packages (from ipython>=7.31.1->ipdb) (0.2.0)\n",
            "Requirement already satisfied: matplotlib-inline in /usr/local/lib/python3.10/dist-packages (from ipython>=7.31.1->ipdb) (0.1.7)\n",
            "Requirement already satisfied: pexpect>4.3 in /usr/local/lib/python3.10/dist-packages (from ipython>=7.31.1->ipdb) (4.9.0)\n",
            "Requirement already satisfied: parso<0.9.0,>=0.8.4 in /usr/local/lib/python3.10/dist-packages (from jedi>=0.16->ipython>=7.31.1->ipdb) (0.8.4)\n",
            "Requirement already satisfied: ptyprocess>=0.5 in /usr/local/lib/python3.10/dist-packages (from pexpect>4.3->ipython>=7.31.1->ipdb) (0.7.0)\n",
            "Requirement already satisfied: wcwidth in /usr/local/lib/python3.10/dist-packages (from prompt-toolkit!=3.0.0,!=3.0.1,<3.1.0,>=2.0.0->ipython>=7.31.1->ipdb) (0.2.13)\n"
          ]
        }
      ]
    },
    {
      "cell_type": "code",
      "execution_count": null,
      "metadata": {
        "collapsed": true,
        "id": "rCUL6fz-uL6K"
      },
      "outputs": [],
      "source": [
        "import ipdb\n"
      ]
    },
    {
      "cell_type": "code",
      "execution_count": 2,
      "metadata": {
        "colab": {
          "base_uri": "https://localhost:8080/"
        },
        "id": "-FwlhyY-7UUj",
        "outputId": "3a8e314d-bffc-4a26-8d17-6eb4d7d05ce4"
      },
      "outputs": [
        {
          "output_type": "stream",
          "name": "stdout",
          "text": [
            "Collecting mido==1.2.9\n",
            "  Downloading mido-1.2.9-py2.py3-none-any.whl.metadata (4.1 kB)\n",
            "Downloading mido-1.2.9-py2.py3-none-any.whl (52 kB)\n",
            "\u001b[?25l   \u001b[90m━━━━━━━━━━━━━━━━━━━━━━━━━━━━━━━━━━━━━━━━\u001b[0m \u001b[32m0.0/52.6 kB\u001b[0m \u001b[31m?\u001b[0m eta \u001b[36m-:--:--\u001b[0m\r\u001b[2K   \u001b[90m━━━━━━━━━━━━━━━━━━━━━━━━━━━━━━━━━━━━━━━━\u001b[0m \u001b[32m52.6/52.6 kB\u001b[0m \u001b[31m2.1 MB/s\u001b[0m eta \u001b[36m0:00:00\u001b[0m\n",
            "\u001b[?25hInstalling collected packages: mido\n",
            "Successfully installed mido-1.2.9\n"
          ]
        }
      ],
      "source": [
        "!pip install mido==1.2.9\n",
        "from mido import MidiFile"
      ]
    },
    {
      "cell_type": "code",
      "execution_count": 1,
      "metadata": {
        "id": "v_meiCXFaz4g",
        "colab": {
          "base_uri": "https://localhost:8080/"
        },
        "outputId": "bd80f2d7-a90e-49bf-e37f-fd9b66c9d92f"
      },
      "outputs": [
        {
          "output_type": "stream",
          "name": "stdout",
          "text": [
            "Mounted at /content/gdrive\n"
          ]
        }
      ],
      "source": [
        "from google.colab import drive\n",
        "drive.mount('/content/gdrive')"
      ]
    },
    {
      "cell_type": "code",
      "execution_count": 3,
      "metadata": {
        "collapsed": true,
        "id": "Ogrc1rwEcmmz"
      },
      "outputs": [],
      "source": [
        "import pandas as pd\n",
        "import numpy as np\n",
        "import matplotlib.pylab as plt\n",
        "#import seaborn as sns\n",
        "\n",
        "from glob import glob\n",
        "\n",
        "import librosa\n",
        "import librosa.display\n",
        "import IPython.display as ipd\n",
        "\n",
        "from itertools import cycle\n",
        "#theme\n",
        "\n",
        "audio_files = sorted(glob('../content/gdrive/MyDrive/wav_44100_stereo/*.wav'))\n",
        "midi_files = sorted(glob('../content/gdrive/MyDrive/midi_files/*.mid'))\n",
        "\n",
        "#import audio\n"
      ]
    },
    {
      "cell_type": "code",
      "source": [
        "for i in range(len(midi_files)):\n",
        "  file_midi = (midi_files[i].split('/'))\n",
        "  file_wav = (audio_files[i].split('/'))\n",
        "  name_wav = (file_wav[len(file_wav) - 1]).split('.')[0]\n",
        "  name_midi = (file_midi[len(file_midi) - 1]).split('.')[0]\n",
        "\n",
        "  if name_wav != name_midi:\n",
        "    ipdb.set_trace()\n",
        "  a = 0"
      ],
      "metadata": {
        "id": "4oH4hNkdcQLw"
      },
      "execution_count": 4,
      "outputs": []
    },
    {
      "cell_type": "code",
      "execution_count": 5,
      "metadata": {
        "id": "SAKrETE5SAmR"
      },
      "outputs": [],
      "source": [
        "def getmidioutputforAI(midi_file, framespersecond, buffer, totalseconds):\n",
        "  y_size = 128\n",
        "  note_tracker = []\n",
        "\n",
        "  track = MidiFile(midi_file).tracks[1]\n",
        "  totalsize = 0\n",
        "  timesum = 0\n",
        "  timecounttemp = 0\n",
        "  foundnote = False\n",
        "  velocities = []\n",
        "  for i in track:\n",
        "    totalsize += i.time\n",
        "  initframespersec = 960\n",
        "  constant_k = initframespersec/framespersecond\n",
        "  msgind = 0\n",
        "  while not foundnote:\n",
        "    timecounttemp += track[msgind].time\n",
        "    if  track[msgind].type == 'note_on':\n",
        "      timesum = (int)(-(timecounttemp) + buffer * initframespersec)\n",
        "      foundnote = True\n",
        "    msgind += 1\n",
        "  totalsize -= timesum\n",
        "  size_blur = (int)(totalsize/constant_k) + 1\n",
        "\n",
        "  output_labels = np.zeros((size_blur, y_size))\n",
        "\n",
        "  prev_time = 0\n",
        "  #finds first note\n",
        "\n",
        "\n",
        "  isPedal = False\n",
        "  for msg in track:\n",
        "\n",
        "\n",
        "    timesum += msg.time\n",
        "\n",
        "    #fill places with no onset with held notes\n",
        "    for t in range((int)(prev_time/constant_k), (int)(timesum/constant_k) + 1):\n",
        "      n = 0\n",
        "      while n < len(note_tracker):\n",
        "        output_labels[t][note_tracker[n]] = velocities[n]/128\n",
        "        velocities[n] -= 2\n",
        "        if velocities[n] < 0: velocities[n] = 0\n",
        "        n += 1\n",
        "    prev_time = timesum\n",
        "\n",
        "    if msg.type == 'note_on':\n",
        "\n",
        "\n",
        "      #if a note turned on or off\n",
        "      isPresent = False\n",
        "      index = 0\n",
        "      while index < len(note_tracker) and not isPresent:\n",
        "        if note_tracker[index] == msg.note:\n",
        "          #if note is turned on\n",
        "          isPresent = True\n",
        "          note_tracker.remove(note_tracker[index])\n",
        "          velocities.remove(velocities[index])\n",
        "        index += 1\n",
        "\n",
        "      if not isPresent:\n",
        "        time_blur = (int)(timesum/constant_k)\n",
        "        #if note is turned off\n",
        "        note_tracker.append(msg.note)\n",
        "        velocities.append(msg.velocity)\n",
        "  return output_labels"
      ]
    },
    {
      "cell_type": "code",
      "source": [
        "def splitArray(arr, sizex, overlap):\n",
        "  splittings = []\n",
        "  for i in range((int)((len(arr) - overlap)/(sizex - overlap))):\n",
        "    start_index = i * (sizex - overlap)\n",
        "    splittings.append(arr[start_index:start_index + sizex])\n",
        "  return splittings"
      ],
      "metadata": {
        "id": "HAkFj2R8-8a0"
      },
      "execution_count": 32,
      "outputs": []
    },
    {
      "cell_type": "code",
      "source": [
        "def fitmidwav(mids, wavs, numinoutperbatch, framespersec, framesperexerpt, framesoverlap, seqlen):\n",
        "  compiled_mid_sequences = []\n",
        "  compiled_wav_sequences = []\n",
        "  for i in range(min(len(mids), len(wavs))):\n",
        "    buffer = 0.1\n",
        "    print('here')\n",
        "    y, sr = librosa.load(wavs[i], sr = 22050)\n",
        "    nfft = 2048\n",
        "    onset_detect = librosa.onset.onset_detect(y=y, sr=sr)\n",
        "    onset_wav = librosa.frames_to_time(onset_detect[0]) - buffer\n",
        "    mel = librosa.feature.melspectrogram(y=y[(int)(onset_wav * sr):len(y)], sr=sr, n_fft=nfft, hop_length=(int)(sr/framespersec), n_mels=128, power=1)\n",
        "\n",
        "    frames = getmidioutputforAI(mids[i], framespersec, buffer, librosa.get_duration(y=y, sr=sr))\n",
        "\n",
        "\n",
        "    print(frames.shape)\n",
        "    print(mel.shape)\n",
        "    new_mel = np.zeros((mel.shape[1], mel.shape[0]))\n",
        "    for j in range(len(mel)):\n",
        "      for k in range(len(mel[i])):\n",
        "        new_mel[k][j] = mel[j][k]\n",
        "\n",
        "    print(frames.shape)\n",
        "    print(new_mel.shape)\n",
        "\n",
        "    lensequence = (int)(seqlen * (framesperexerpt - framesoverlap) + framesoverlap)\n",
        "\n",
        "    frames = np.concatenate((frames, np.zeros(((int)(np.ceil(len(frames)/lensequence) * lensequence) - len(frames), 128))))\n",
        "    new_mel = np.concatenate((new_mel, np.zeros(((int)(np.ceil(len(new_mel)/lensequence) * lensequence) - len(new_mel), 128))))\n",
        "\n",
        "    print(frames.shape)\n",
        "    print(new_mel.shape)\n",
        "\n",
        "    #ipdb.set_trace()\n",
        "    #midi split\n",
        "    for j in range((min((int)((len(new_mel))/(lensequence)), (int)((len(frames))/(lensequence))))):\n",
        "      compiled_mid_sequences.append(splitArray(frames[j * lensequence:j * lensequence + lensequence],\n",
        "                                   framesperexerpt, framesoverlap))\n",
        "\n",
        "      compiled_wav_sequences.append(splitArray(new_mel[(int)(j * lensequence):(int)(j * lensequence + lensequence)],\n",
        "       framesperexerpt,\n",
        "        framesoverlap))\n",
        "      #ipdb.set_trace()\n",
        "\n",
        "\n",
        "\n",
        "  listindecesnot_used = list(range(0, min(len(compiled_mid_sequences), len(compiled_wav_sequences))))\n",
        "\n",
        "  batchX = []\n",
        "  batchY = []\n",
        "  for i in range(len(listindecesnot_used)):\n",
        "    index_list = np.random.randint(0, len(listindecesnot_used))\n",
        "    act_index = listindecesnot_used[index_list]\n",
        "    X = compiled_wav_sequences[act_index]\n",
        "    Y = compiled_mid_sequences[act_index]\n",
        "    print(np.array(Y).shape)\n",
        "    listindecesnot_used.remove(act_index)\n",
        "    batchX.append(X)\n",
        "    batchY.append(Y)\n",
        "  #print(np.array(batchX).shape)\n",
        "  #print(np.array(batchY).shape)\n",
        "  #history = model.fit(np.array(batchX), np.array(batchY), batch_size=numinoutperbatch)\n",
        "  #ipdb.set_trace()\n",
        "\n",
        "  return batchX, batchY #history\n"
      ],
      "metadata": {
        "id": "8ktlHIu28ZmH"
      },
      "execution_count": 7,
      "outputs": []
    },
    {
      "cell_type": "code",
      "source": [
        "#tf.debugging.set_log_device_placement(False)\n",
        "h = []\n",
        "print(midi_files[0:1])\n",
        "print(audio_files[0:1])\n",
        "x, y = fitmidwav(midi_files[0:1], audio_files[0:1], 100, 20, 10, 5, 2)\n",
        "\n",
        "#model.export('../gdrive/MyDrive/', format='myai')"
      ],
      "metadata": {
        "id": "uE-EzI3wrPOn",
        "collapsed": true,
        "colab": {
          "base_uri": "https://localhost:8080/"
        },
        "outputId": "d144a5ca-87e1-4e26-a7a8-d8e100fba83f"
      },
      "execution_count": 33,
      "outputs": [
        {
          "output_type": "stream",
          "name": "stdout",
          "text": [
            "['../content/gdrive/MyDrive/midi_files/Bach_BWV849-01_001_20090916-SMD.mid']\n",
            "['../content/gdrive/MyDrive/wav_44100_stereo/Bach_BWV849-01_001_20090916-SMD.wav']\n",
            "here\n",
            "(3180, 128)\n",
            "(128, 3092)\n",
            "(3180, 128)\n",
            "(3092, 128)\n",
            "(3180, 128)\n",
            "(3105, 128)\n",
            "(2, 10, 128)\n",
            "(2, 10, 128)\n",
            "(2, 10, 128)\n",
            "(2, 10, 128)\n",
            "(2, 10, 128)\n",
            "(2, 10, 128)\n",
            "(2, 10, 128)\n",
            "(2, 10, 128)\n",
            "(2, 10, 128)\n",
            "(2, 10, 128)\n",
            "(2, 10, 128)\n",
            "(2, 10, 128)\n",
            "(2, 10, 128)\n",
            "(2, 10, 128)\n",
            "(2, 10, 128)\n",
            "(2, 10, 128)\n",
            "(2, 10, 128)\n",
            "(2, 10, 128)\n",
            "(2, 10, 128)\n",
            "(2, 10, 128)\n",
            "(2, 10, 128)\n",
            "(2, 10, 128)\n",
            "(2, 10, 128)\n",
            "(2, 10, 128)\n",
            "(2, 10, 128)\n",
            "(2, 10, 128)\n",
            "(2, 10, 128)\n",
            "(2, 10, 128)\n",
            "(2, 10, 128)\n",
            "(2, 10, 128)\n",
            "(2, 10, 128)\n",
            "(2, 10, 128)\n",
            "(2, 10, 128)\n",
            "(2, 10, 128)\n",
            "(2, 10, 128)\n",
            "(2, 10, 128)\n",
            "(2, 10, 128)\n",
            "(2, 10, 128)\n",
            "(2, 10, 128)\n",
            "(2, 10, 128)\n",
            "(2, 10, 128)\n",
            "(2, 10, 128)\n",
            "(2, 10, 128)\n",
            "(2, 10, 128)\n",
            "(2, 10, 128)\n",
            "(2, 10, 128)\n",
            "(2, 10, 128)\n",
            "(2, 10, 128)\n",
            "(2, 10, 128)\n",
            "(2, 10, 128)\n",
            "(2, 10, 128)\n",
            "(2, 10, 128)\n",
            "(2, 10, 128)\n",
            "(2, 10, 128)\n",
            "(2, 10, 128)\n",
            "(2, 10, 128)\n",
            "(2, 10, 128)\n",
            "(2, 10, 128)\n",
            "(2, 10, 128)\n",
            "(2, 10, 128)\n",
            "(2, 10, 128)\n",
            "(2, 10, 128)\n",
            "(2, 10, 128)\n",
            "(2, 10, 128)\n",
            "(2, 10, 128)\n",
            "(2, 10, 128)\n",
            "(2, 10, 128)\n",
            "(2, 10, 128)\n",
            "(2, 10, 128)\n",
            "(2, 10, 128)\n",
            "(2, 10, 128)\n",
            "(2, 10, 128)\n",
            "(2, 10, 128)\n",
            "(2, 10, 128)\n",
            "(2, 10, 128)\n",
            "(2, 10, 128)\n",
            "(2, 10, 128)\n",
            "(2, 10, 128)\n",
            "(2, 10, 128)\n",
            "(2, 10, 128)\n",
            "(2, 10, 128)\n",
            "(2, 10, 128)\n",
            "(2, 10, 128)\n",
            "(2, 10, 128)\n",
            "(2, 10, 128)\n",
            "(2, 10, 128)\n",
            "(2, 10, 128)\n",
            "(2, 10, 128)\n",
            "(2, 10, 128)\n",
            "(2, 10, 128)\n",
            "(2, 10, 128)\n",
            "(2, 10, 128)\n",
            "(2, 10, 128)\n",
            "(2, 10, 128)\n",
            "(2, 10, 128)\n",
            "(2, 10, 128)\n",
            "(2, 10, 128)\n",
            "(2, 10, 128)\n",
            "(2, 10, 128)\n",
            "(2, 10, 128)\n",
            "(2, 10, 128)\n",
            "(2, 10, 128)\n",
            "(2, 10, 128)\n",
            "(2, 10, 128)\n",
            "(2, 10, 128)\n",
            "(2, 10, 128)\n",
            "(2, 10, 128)\n",
            "(2, 10, 128)\n",
            "(2, 10, 128)\n",
            "(2, 10, 128)\n",
            "(2, 10, 128)\n",
            "(2, 10, 128)\n",
            "(2, 10, 128)\n",
            "(2, 10, 128)\n",
            "(2, 10, 128)\n",
            "(2, 10, 128)\n",
            "(2, 10, 128)\n",
            "(2, 10, 128)\n",
            "(2, 10, 128)\n",
            "(2, 10, 128)\n",
            "(2, 10, 128)\n",
            "(2, 10, 128)\n",
            "(2, 10, 128)\n",
            "(2, 10, 128)\n",
            "(2, 10, 128)\n",
            "(2, 10, 128)\n",
            "(2, 10, 128)\n",
            "(2, 10, 128)\n",
            "(2, 10, 128)\n",
            "(2, 10, 128)\n",
            "(2, 10, 128)\n",
            "(2, 10, 128)\n",
            "(2, 10, 128)\n",
            "(2, 10, 128)\n",
            "(2, 10, 128)\n",
            "(2, 10, 128)\n",
            "(2, 10, 128)\n",
            "(2, 10, 128)\n",
            "(2, 10, 128)\n",
            "(2, 10, 128)\n",
            "(2, 10, 128)\n",
            "(2, 10, 128)\n",
            "(2, 10, 128)\n",
            "(2, 10, 128)\n",
            "(2, 10, 128)\n",
            "(2, 10, 128)\n",
            "(2, 10, 128)\n",
            "(2, 10, 128)\n",
            "(2, 10, 128)\n",
            "(2, 10, 128)\n",
            "(2, 10, 128)\n",
            "(2, 10, 128)\n",
            "(2, 10, 128)\n",
            "(2, 10, 128)\n",
            "(2, 10, 128)\n",
            "(2, 10, 128)\n",
            "(2, 10, 128)\n",
            "(2, 10, 128)\n",
            "(2, 10, 128)\n",
            "(2, 10, 128)\n",
            "(2, 10, 128)\n",
            "(2, 10, 128)\n",
            "(2, 10, 128)\n",
            "(2, 10, 128)\n",
            "(2, 10, 128)\n",
            "(2, 10, 128)\n",
            "(2, 10, 128)\n",
            "(2, 10, 128)\n",
            "(2, 10, 128)\n",
            "(2, 10, 128)\n",
            "(2, 10, 128)\n",
            "(2, 10, 128)\n",
            "(2, 10, 128)\n",
            "(2, 10, 128)\n",
            "(2, 10, 128)\n",
            "(2, 10, 128)\n",
            "(2, 10, 128)\n",
            "(2, 10, 128)\n",
            "(2, 10, 128)\n",
            "(2, 10, 128)\n",
            "(2, 10, 128)\n",
            "(2, 10, 128)\n",
            "(2, 10, 128)\n",
            "(2, 10, 128)\n",
            "(2, 10, 128)\n",
            "(2, 10, 128)\n",
            "(2, 10, 128)\n",
            "(2, 10, 128)\n",
            "(2, 10, 128)\n",
            "(2, 10, 128)\n",
            "(2, 10, 128)\n",
            "(2, 10, 128)\n",
            "(2, 10, 128)\n",
            "(2, 10, 128)\n",
            "(2, 10, 128)\n",
            "(2, 10, 128)\n",
            "(2, 10, 128)\n",
            "(2, 10, 128)\n",
            "(2, 10, 128)\n",
            "(2, 10, 128)\n",
            "(2, 10, 128)\n",
            "(2, 10, 128)\n",
            "(2, 10, 128)\n",
            "(2, 10, 128)\n",
            "(2, 10, 128)\n",
            "(2, 10, 128)\n",
            "(2, 10, 128)\n"
          ]
        }
      ]
    },
    {
      "cell_type": "code",
      "source": [
        "\n",
        "\n"
      ],
      "metadata": {
        "id": "MGjrh8JUIHlZ"
      },
      "execution_count": null,
      "outputs": []
    },
    {
      "cell_type": "code",
      "source": [
        "y_l, sr = librosa.load(audio_files[0], sr = 22050)\n",
        "onset_detect = librosa.onset.onset_detect(y=y_l, sr=sr)\n",
        "onset_wav = librosa.frames_to_time(onset_detect[0]) - 0.1\n",
        "mel_l = librosa.feature.melspectrogram(y=y_l[(int)(onset_wav * sr):len(y_l)], sr=sr, hop_length=(int)(sr/50), n_mels=256, power=1)\n",
        "ranger = 256\n",
        "new_mel_l = np.zeros((mel_l.shape[0], ranger))\n",
        "print(new_mel_l)\n",
        "length = len(new_mel_l)\n",
        "\n",
        "for l in range(ranger):\n",
        "  for p in range(len(new_mel_l[i])):\n",
        "    new_mel_l[p][l] = mel_l[p][l]\n",
        "plt.imshow(new_mel_l, cmap='viridis')\n",
        "\n",
        "plt.show()"
      ],
      "metadata": {
        "id": "EnO-CfQXJhat",
        "colab": {
          "base_uri": "https://localhost:8080/",
          "height": 332
        },
        "outputId": "cf961132-6d6f-491b-b92e-5546f294fad0"
      },
      "execution_count": null,
      "outputs": [
        {
          "output_type": "stream",
          "name": "stdout",
          "text": [
            "[[0. 0. 0. ... 0. 0. 0.]\n",
            " [0. 0. 0. ... 0. 0. 0.]\n",
            " [0. 0. 0. ... 0. 0. 0.]\n",
            " ...\n",
            " [0. 0. 0. ... 0. 0. 0.]\n",
            " [0. 0. 0. ... 0. 0. 0.]\n",
            " [0. 0. 0. ... 0. 0. 0.]]\n"
          ]
        },
        {
          "output_type": "error",
          "ename": "IndexError",
          "evalue": "index 256 is out of bounds for axis 0 with size 256",
          "traceback": [
            "\u001b[0;31m---------------------------------------------------------------------------\u001b[0m",
            "\u001b[0;31mIndexError\u001b[0m                                Traceback (most recent call last)",
            "\u001b[0;32m<ipython-input-14-578822de7623>\u001b[0m in \u001b[0;36m<cell line: 10>\u001b[0;34m()\u001b[0m\n\u001b[1;32m     10\u001b[0m \u001b[0;32mfor\u001b[0m \u001b[0ml\u001b[0m \u001b[0;32min\u001b[0m \u001b[0mrange\u001b[0m\u001b[0;34m(\u001b[0m\u001b[0mranger\u001b[0m\u001b[0;34m)\u001b[0m\u001b[0;34m:\u001b[0m\u001b[0;34m\u001b[0m\u001b[0;34m\u001b[0m\u001b[0m\n\u001b[1;32m     11\u001b[0m   \u001b[0;32mfor\u001b[0m \u001b[0mp\u001b[0m \u001b[0;32min\u001b[0m \u001b[0mrange\u001b[0m\u001b[0;34m(\u001b[0m\u001b[0mlen\u001b[0m\u001b[0;34m(\u001b[0m\u001b[0mnew_mel_l\u001b[0m\u001b[0;34m[\u001b[0m\u001b[0mi\u001b[0m\u001b[0;34m]\u001b[0m\u001b[0;34m)\u001b[0m\u001b[0;34m)\u001b[0m\u001b[0;34m:\u001b[0m\u001b[0;34m\u001b[0m\u001b[0;34m\u001b[0m\u001b[0m\n\u001b[0;32m---> 12\u001b[0;31m     \u001b[0mnew_mel_l\u001b[0m\u001b[0;34m[\u001b[0m\u001b[0mp\u001b[0m\u001b[0;34m]\u001b[0m\u001b[0;34m[\u001b[0m\u001b[0ml\u001b[0m\u001b[0;34m]\u001b[0m \u001b[0;34m=\u001b[0m \u001b[0mmel_l\u001b[0m\u001b[0;34m[\u001b[0m\u001b[0mp\u001b[0m\u001b[0;34m]\u001b[0m\u001b[0;34m[\u001b[0m\u001b[0ml\u001b[0m\u001b[0;34m]\u001b[0m\u001b[0;34m\u001b[0m\u001b[0;34m\u001b[0m\u001b[0m\n\u001b[0m\u001b[1;32m     13\u001b[0m \u001b[0mplt\u001b[0m\u001b[0;34m.\u001b[0m\u001b[0mimshow\u001b[0m\u001b[0;34m(\u001b[0m\u001b[0mnew_mel_l\u001b[0m\u001b[0;34m,\u001b[0m \u001b[0mcmap\u001b[0m\u001b[0;34m=\u001b[0m\u001b[0;34m'viridis'\u001b[0m\u001b[0;34m)\u001b[0m\u001b[0;34m\u001b[0m\u001b[0;34m\u001b[0m\u001b[0m\n\u001b[1;32m     14\u001b[0m \u001b[0;34m\u001b[0m\u001b[0m\n",
            "\u001b[0;31mIndexError\u001b[0m: index 256 is out of bounds for axis 0 with size 256"
          ]
        }
      ]
    },
    {
      "cell_type": "code",
      "source": [
        "print(np.array(y[0]).shape)\n",
        "for i in range(len(x)):\n",
        "  if np.array(y[i]).shape != (5, 150, 128): print(i)\n",
        "print(np.array(y).shape)\n",
        "plt.imshow(y[2][0], cmap='viridis')\n",
        "\n",
        "plt.show()"
      ],
      "metadata": {
        "id": "uCXYspgDv5uH",
        "colab": {
          "base_uri": "https://localhost:8080/",
          "height": 1000
        },
        "outputId": "cb2f6165-e5c2-4f2f-8472-296ba3ec240c"
      },
      "execution_count": 18,
      "outputs": [
        {
          "output_type": "stream",
          "name": "stdout",
          "text": [
            "(5, 10, 128)\n",
            "0\n",
            "1\n",
            "2\n",
            "3\n",
            "4\n",
            "5\n",
            "6\n",
            "7\n",
            "8\n",
            "9\n",
            "10\n",
            "11\n",
            "12\n",
            "13\n",
            "14\n",
            "15\n",
            "16\n",
            "17\n",
            "18\n",
            "19\n",
            "20\n",
            "21\n",
            "22\n",
            "23\n",
            "24\n",
            "25\n",
            "26\n",
            "27\n",
            "28\n",
            "29\n",
            "30\n",
            "31\n",
            "32\n",
            "33\n",
            "34\n",
            "35\n",
            "36\n",
            "37\n",
            "38\n",
            "39\n",
            "40\n",
            "41\n",
            "42\n",
            "43\n",
            "44\n",
            "45\n",
            "46\n",
            "47\n",
            "48\n",
            "49\n",
            "50\n",
            "51\n",
            "52\n",
            "53\n",
            "54\n",
            "55\n",
            "56\n",
            "57\n",
            "58\n",
            "59\n",
            "60\n",
            "61\n",
            "62\n",
            "63\n",
            "64\n",
            "65\n",
            "66\n",
            "67\n",
            "68\n",
            "69\n",
            "70\n",
            "71\n",
            "72\n",
            "73\n",
            "74\n",
            "75\n",
            "76\n",
            "77\n",
            "78\n",
            "79\n",
            "80\n",
            "81\n",
            "82\n",
            "83\n",
            "84\n",
            "85\n",
            "86\n",
            "87\n",
            "88\n",
            "89\n",
            "90\n",
            "91\n",
            "92\n",
            "93\n",
            "94\n",
            "95\n",
            "96\n",
            "97\n",
            "98\n",
            "99\n",
            "100\n",
            "101\n",
            "102\n",
            "103\n",
            "(104, 5, 10, 128)\n"
          ]
        },
        {
          "output_type": "display_data",
          "data": {
            "text/plain": [
              "<Figure size 640x480 with 1 Axes>"
            ],
            "image/png": "[encoded data removed]"
          },
          "metadata": {}
        }
      ]
    },
    {
      "cell_type": "code",
      "source": [],
      "metadata": {
        "id": "wOHZK-W9PLLY"
      },
      "execution_count": 18,
      "outputs": []
    },
    {
      "cell_type": "code",
      "execution_count": 19,
      "metadata": {
        "id": "1erClIUpgvsT",
        "colab": {
          "base_uri": "https://localhost:8080/",
          "height": 123
        },
        "outputId": "50c03a2b-d818-49e5-bb3e-3136bb4285cf"
      },
      "outputs": [
        {
          "output_type": "display_data",
          "data": {
            "text/plain": [
              "<Figure size 1000x500 with 1 Axes>"
            ],
            "image/png": "[encoded data removed]"
          },
          "metadata": {}
        }
      ],
      "source": [
        "fig, ax = plt.subplots(figsize=(10,5))\n",
        "\n",
        "plt.imshow(x[2][0])\n",
        "plt.show()\n",
        "\n"
      ]
    },
    {
      "cell_type": "code",
      "source": [
        "import tensorflow as tf\n",
        "from tensorflow import keras\n",
        "tf.config.set_visible_devices([], 'GPU')\n",
        "\n",
        "kernel_size = (5,5)\n",
        "\n",
        "out_x = 10\n",
        "out_y = 128\n",
        "n_mels = 256\n",
        "trainseqsize = 2\n",
        "sec_perseq = 0.5\n",
        "sr = 22050\n",
        "in_x = 10\n",
        "in_y = 128\n",
        "filters1 = 2\n",
        "filters2 = 8\n",
        "shaper = (trainseqsize, in_x, in_y)\n",
        "\n",
        "mem_alloc = 2\n",
        "\n",
        "\n",
        "input_tensor = keras.Input(shape=shaper, batch_size=None)\n",
        "\n",
        "list_convs = []\n",
        "for i in range(trainseqsize):\n",
        "  out =  keras.layers.Lambda(lambda x: x[:, i, :, :]) (input_tensor)\n",
        "  out = keras.layers.Reshape(target_shape=(out.shape[1], out.shape[2], 1))(out)\n",
        "  conv = keras.layers.Conv2D(filters1, kernel_size, data_format='channels_last') (out)\n",
        "  conv = keras.layers.Reshape(target_shape=(1, conv.shape[1], conv.shape[2], conv.shape[3]))(conv)\n",
        "  list_convs.append(conv)\n",
        "stacked_tensors_frame = keras.layers.Concatenate(axis=1)(list_convs)\n",
        "print(stacked_tensors_frame.shape)\n",
        "flatten_frame = keras.layers.Reshape(target_shape=(stacked_tensors_frame.shape[1], stacked_tensors_frame.shape[2] * stacked_tensors_frame.shape[3] * stacked_tensors_frame.shape[4])) (stacked_tensors_frame)\n",
        "dense1_frame = keras.layers.Dense(out_y * out_x, activation='sigmoid') (flatten_frame)\n",
        "frame_branch = keras.layers.Dense(out_y * out_x, activation='sigmoid') (dense1_frame)\n",
        "\n",
        "biLSTM_frame = keras.layers.Bidirectional(keras.layers.LSTM(out_x * 50, return_sequences=True, activation='sigmoid', recurrent_activation='sigmoid'), merge_mode='concat')(frame_branch)\n",
        "dense2_frame = keras.layers.Dense(out_x * out_y * 10, activation='sigmoid') (biLSTM_frame)\n",
        "dense2_frame = keras.layers.Dense(out_x * out_y * 10, activation='sigmoid') (dense2_frame)\n",
        "dense2_frame = keras.layers.Dense(out_x * out_y * 10, activation='sigmoid') (dense2_frame)\n",
        "dense2_frame = keras.layers.Dense(out_x * out_y, activation='sigmoid') (dense2_frame)\n",
        "output = keras.layers.Reshape(target_shape=(trainseqsize, out_x, out_y)) (dense2_frame)\n",
        "\n",
        "\n",
        "model = keras.Model(inputs=input_tensor, outputs=output)\n",
        "\n",
        "model.summary()"
      ],
      "metadata": {
        "id": "woW8YLNYjw3g",
        "colab": {
          "base_uri": "https://localhost:8080/",
          "height": 811
        },
        "outputId": "bbd24d3e-e886-48ba-e7e4-a1adda087ed8"
      },
      "execution_count": 42,
      "outputs": [
        {
          "output_type": "stream",
          "name": "stdout",
          "text": [
            "(None, 2, 6, 124, 2)\n"
          ]
        },
        {
          "output_type": "display_data",
          "data": {
            "text/plain": [
              "\u001b[1mModel: \"functional_4\"\u001b[0m\n"
            ],
            "text/html": [
              "<pre style=\"white-space:pre;overflow-x:auto;line-height:normal;font-family:Menlo,'DejaVu Sans Mono',consolas,'Courier New',monospace\"><span style=\"font-weight: bold\">Model: \"functional_4\"</span>\n",
              "</pre>\n"
            ]
          },
          "metadata": {}
        },
        {
          "output_type": "display_data",
          "data": {
            "text/plain": [
              "┏━━━━━━━━━━━━━━━━━━━━━━━━━━━┳━━━━━━━━━━━━━━━━━━━━━━━━┳━━━━━━━━━━━━━━━━┳━━━━━━━━━━━━━━━━━━━━━━━━┓\n",
              "┃\u001b[1m \u001b[0m\u001b[1mLayer (type)             \u001b[0m\u001b[1m \u001b[0m┃\u001b[1m \u001b[0m\u001b[1mOutput Shape          \u001b[0m\u001b[1m \u001b[0m┃\u001b[1m \u001b[0m\u001b[1m       Param #\u001b[0m\u001b[1m \u001b[0m┃\u001b[1m \u001b[0m\u001b[1mConnected to          \u001b[0m\u001b[1m \u001b[0m┃\n",
              "┡━━━━━━━━━━━━━━━━━━━━━━━━━━━╇━━━━━━━━━━━━━━━━━━━━━━━━╇━━━━━━━━━━━━━━━━╇━━━━━━━━━━━━━━━━━━━━━━━━┩\n",
              "│ input_layer_4             │ (\u001b[38;5;45mNone\u001b[0m, \u001b[38;5;34m2\u001b[0m, \u001b[38;5;34m10\u001b[0m, \u001b[38;5;34m128\u001b[0m)     │              \u001b[38;5;34m0\u001b[0m │ -                      │\n",
              "│ (\u001b[38;5;33mInputLayer\u001b[0m)              │                        │                │                        │\n",
              "├───────────────────────────┼────────────────────────┼────────────────┼────────────────────────┤\n",
              "│ lambda_17 (\u001b[38;5;33mLambda\u001b[0m)        │ (\u001b[38;5;45mNone\u001b[0m, \u001b[38;5;34m10\u001b[0m, \u001b[38;5;34m128\u001b[0m)        │              \u001b[38;5;34m0\u001b[0m │ input_layer_4[\u001b[38;5;34m0\u001b[0m][\u001b[38;5;34m0\u001b[0m]    │\n",
              "├───────────────────────────┼────────────────────────┼────────────────┼────────────────────────┤\n",
              "│ lambda_18 (\u001b[38;5;33mLambda\u001b[0m)        │ (\u001b[38;5;45mNone\u001b[0m, \u001b[38;5;34m10\u001b[0m, \u001b[38;5;34m128\u001b[0m)        │              \u001b[38;5;34m0\u001b[0m │ input_layer_4[\u001b[38;5;34m0\u001b[0m][\u001b[38;5;34m0\u001b[0m]    │\n",
              "├───────────────────────────┼────────────────────────┼────────────────┼────────────────────────┤\n",
              "│ reshape_42 (\u001b[38;5;33mReshape\u001b[0m)      │ (\u001b[38;5;45mNone\u001b[0m, \u001b[38;5;34m10\u001b[0m, \u001b[38;5;34m128\u001b[0m, \u001b[38;5;34m1\u001b[0m)     │              \u001b[38;5;34m0\u001b[0m │ lambda_17[\u001b[38;5;34m0\u001b[0m][\u001b[38;5;34m0\u001b[0m]        │\n",
              "├───────────────────────────┼────────────────────────┼────────────────┼────────────────────────┤\n",
              "│ reshape_44 (\u001b[38;5;33mReshape\u001b[0m)      │ (\u001b[38;5;45mNone\u001b[0m, \u001b[38;5;34m10\u001b[0m, \u001b[38;5;34m128\u001b[0m, \u001b[38;5;34m1\u001b[0m)     │              \u001b[38;5;34m0\u001b[0m │ lambda_18[\u001b[38;5;34m0\u001b[0m][\u001b[38;5;34m0\u001b[0m]        │\n",
              "├───────────────────────────┼────────────────────────┼────────────────┼────────────────────────┤\n",
              "│ conv2d_17 (\u001b[38;5;33mConv2D\u001b[0m)        │ (\u001b[38;5;45mNone\u001b[0m, \u001b[38;5;34m6\u001b[0m, \u001b[38;5;34m124\u001b[0m, \u001b[38;5;34m2\u001b[0m)      │             \u001b[38;5;34m52\u001b[0m │ reshape_42[\u001b[38;5;34m0\u001b[0m][\u001b[38;5;34m0\u001b[0m]       │\n",
              "├───────────────────────────┼────────────────────────┼────────────────┼────────────────────────┤\n",
              "│ conv2d_18 (\u001b[38;5;33mConv2D\u001b[0m)        │ (\u001b[38;5;45mNone\u001b[0m, \u001b[38;5;34m6\u001b[0m, \u001b[38;5;34m124\u001b[0m, \u001b[38;5;34m2\u001b[0m)      │             \u001b[38;5;34m52\u001b[0m │ reshape_44[\u001b[38;5;34m0\u001b[0m][\u001b[38;5;34m0\u001b[0m]       │\n",
              "├───────────────────────────┼────────────────────────┼────────────────┼────────────────────────┤\n",
              "│ reshape_43 (\u001b[38;5;33mReshape\u001b[0m)      │ (\u001b[38;5;45mNone\u001b[0m, \u001b[38;5;34m1\u001b[0m, \u001b[38;5;34m6\u001b[0m, \u001b[38;5;34m124\u001b[0m, \u001b[38;5;34m2\u001b[0m)   │              \u001b[38;5;34m0\u001b[0m │ conv2d_17[\u001b[38;5;34m0\u001b[0m][\u001b[38;5;34m0\u001b[0m]        │\n",
              "├───────────────────────────┼────────────────────────┼────────────────┼────────────────────────┤\n",
              "│ reshape_45 (\u001b[38;5;33mReshape\u001b[0m)      │ (\u001b[38;5;45mNone\u001b[0m, \u001b[38;5;34m1\u001b[0m, \u001b[38;5;34m6\u001b[0m, \u001b[38;5;34m124\u001b[0m, \u001b[38;5;34m2\u001b[0m)   │              \u001b[38;5;34m0\u001b[0m │ conv2d_18[\u001b[38;5;34m0\u001b[0m][\u001b[38;5;34m0\u001b[0m]        │\n",
              "├───────────────────────────┼────────────────────────┼────────────────┼────────────────────────┤\n",
              "│ concatenate_4             │ (\u001b[38;5;45mNone\u001b[0m, \u001b[38;5;34m2\u001b[0m, \u001b[38;5;34m6\u001b[0m, \u001b[38;5;34m124\u001b[0m, \u001b[38;5;34m2\u001b[0m)   │              \u001b[38;5;34m0\u001b[0m │ reshape_43[\u001b[38;5;34m0\u001b[0m][\u001b[38;5;34m0\u001b[0m],      │\n",
              "│ (\u001b[38;5;33mConcatenate\u001b[0m)             │                        │                │ reshape_45[\u001b[38;5;34m0\u001b[0m][\u001b[38;5;34m0\u001b[0m]       │\n",
              "├───────────────────────────┼────────────────────────┼────────────────┼────────────────────────┤\n",
              "│ reshape_46 (\u001b[38;5;33mReshape\u001b[0m)      │ (\u001b[38;5;45mNone\u001b[0m, \u001b[38;5;34m2\u001b[0m, \u001b[38;5;34m1488\u001b[0m)        │              \u001b[38;5;34m0\u001b[0m │ concatenate_4[\u001b[38;5;34m0\u001b[0m][\u001b[38;5;34m0\u001b[0m]    │\n",
              "├───────────────────────────┼────────────────────────┼────────────────┼────────────────────────┤\n",
              "│ dense_16 (\u001b[38;5;33mDense\u001b[0m)          │ (\u001b[38;5;45mNone\u001b[0m, \u001b[38;5;34m2\u001b[0m, \u001b[38;5;34m1280\u001b[0m)        │      \u001b[38;5;34m1,905,920\u001b[0m │ reshape_46[\u001b[38;5;34m0\u001b[0m][\u001b[38;5;34m0\u001b[0m]       │\n",
              "├───────────────────────────┼────────────────────────┼────────────────┼────────────────────────┤\n",
              "│ dense_17 (\u001b[38;5;33mDense\u001b[0m)          │ (\u001b[38;5;45mNone\u001b[0m, \u001b[38;5;34m2\u001b[0m, \u001b[38;5;34m1280\u001b[0m)        │      \u001b[38;5;34m1,639,680\u001b[0m │ dense_16[\u001b[38;5;34m0\u001b[0m][\u001b[38;5;34m0\u001b[0m]         │\n",
              "├───────────────────────────┼────────────────────────┼────────────────┼────────────────────────┤\n",
              "│ bidirectional_4           │ (\u001b[38;5;45mNone\u001b[0m, \u001b[38;5;34m2\u001b[0m, \u001b[38;5;34m1000\u001b[0m)        │      \u001b[38;5;34m7,124,000\u001b[0m │ dense_17[\u001b[38;5;34m0\u001b[0m][\u001b[38;5;34m0\u001b[0m]         │\n",
              "│ (\u001b[38;5;33mBidirectional\u001b[0m)           │                        │                │                        │\n",
              "├───────────────────────────┼────────────────────────┼────────────────┼────────────────────────┤\n",
              "│ dense_18 (\u001b[38;5;33mDense\u001b[0m)          │ (\u001b[38;5;45mNone\u001b[0m, \u001b[38;5;34m2\u001b[0m, \u001b[38;5;34m12800\u001b[0m)       │     \u001b[38;5;34m12,812,800\u001b[0m │ bidirectional_4[\u001b[38;5;34m0\u001b[0m][\u001b[38;5;34m0\u001b[0m]  │\n",
              "├───────────────────────────┼────────────────────────┼────────────────┼────────────────────────┤\n",
              "│ dense_19 (\u001b[38;5;33mDense\u001b[0m)          │ (\u001b[38;5;45mNone\u001b[0m, \u001b[38;5;34m2\u001b[0m, \u001b[38;5;34m12800\u001b[0m)       │    \u001b[38;5;34m163,852,800\u001b[0m │ dense_18[\u001b[38;5;34m0\u001b[0m][\u001b[38;5;34m0\u001b[0m]         │\n",
              "├───────────────────────────┼────────────────────────┼────────────────┼────────────────────────┤\n",
              "│ dense_20 (\u001b[38;5;33mDense\u001b[0m)          │ (\u001b[38;5;45mNone\u001b[0m, \u001b[38;5;34m2\u001b[0m, \u001b[38;5;34m12800\u001b[0m)       │    \u001b[38;5;34m163,852,800\u001b[0m │ dense_19[\u001b[38;5;34m0\u001b[0m][\u001b[38;5;34m0\u001b[0m]         │\n",
              "├───────────────────────────┼────────────────────────┼────────────────┼────────────────────────┤\n",
              "│ dense_21 (\u001b[38;5;33mDense\u001b[0m)          │ (\u001b[38;5;45mNone\u001b[0m, \u001b[38;5;34m2\u001b[0m, \u001b[38;5;34m1280\u001b[0m)        │     \u001b[38;5;34m16,385,280\u001b[0m │ dense_20[\u001b[38;5;34m0\u001b[0m][\u001b[38;5;34m0\u001b[0m]         │\n",
              "├───────────────────────────┼────────────────────────┼────────────────┼────────────────────────┤\n",
              "│ reshape_47 (\u001b[38;5;33mReshape\u001b[0m)      │ (\u001b[38;5;45mNone\u001b[0m, \u001b[38;5;34m2\u001b[0m, \u001b[38;5;34m10\u001b[0m, \u001b[38;5;34m128\u001b[0m)     │              \u001b[38;5;34m0\u001b[0m │ dense_21[\u001b[38;5;34m0\u001b[0m][\u001b[38;5;34m0\u001b[0m]         │\n",
              "└───────────────────────────┴────────────────────────┴────────────────┴────────────────────────┘\n"
            ],
            "text/html": [
              "<pre style=\"white-space:pre;overflow-x:auto;line-height:normal;font-family:Menlo,'DejaVu Sans Mono',consolas,'Courier New',monospace\">┏━━━━━━━━━━━━━━━━━━━━━━━━━━━┳━━━━━━━━━━━━━━━━━━━━━━━━┳━━━━━━━━━━━━━━━━┳━━━━━━━━━━━━━━━━━━━━━━━━┓\n",
              "┃<span style=\"font-weight: bold\"> Layer (type)              </span>┃<span style=\"font-weight: bold\"> Output Shape           </span>┃<span style=\"font-weight: bold\">        Param # </span>┃<span style=\"font-weight: bold\"> Connected to           </span>┃\n",
              "┡━━━━━━━━━━━━━━━━━━━━━━━━━━━╇━━━━━━━━━━━━━━━━━━━━━━━━╇━━━━━━━━━━━━━━━━╇━━━━━━━━━━━━━━━━━━━━━━━━┩\n",
              "│ input_layer_4             │ (<span style=\"color: #00d7ff; text-decoration-color: #00d7ff\">None</span>, <span style=\"color: #00af00; text-decoration-color: #00af00\">2</span>, <span style=\"color: #00af00; text-decoration-color: #00af00\">10</span>, <span style=\"color: #00af00; text-decoration-color: #00af00\">128</span>)     │              <span style=\"color: #00af00; text-decoration-color: #00af00\">0</span> │ -                      │\n",
              "│ (<span style=\"color: #0087ff; text-decoration-color: #0087ff\">InputLayer</span>)              │                        │                │                        │\n",
              "├───────────────────────────┼────────────────────────┼────────────────┼────────────────────────┤\n",
              "│ lambda_17 (<span style=\"color: #0087ff; text-decoration-color: #0087ff\">Lambda</span>)        │ (<span style=\"color: #00d7ff; text-decoration-color: #00d7ff\">None</span>, <span style=\"color: #00af00; text-decoration-color: #00af00\">10</span>, <span style=\"color: #00af00; text-decoration-color: #00af00\">128</span>)        │              <span style=\"color: #00af00; text-decoration-color: #00af00\">0</span> │ input_layer_4[<span style=\"color: #00af00; text-decoration-color: #00af00\">0</span>][<span style=\"color: #00af00; text-decoration-color: #00af00\">0</span>]    │\n",
              "├───────────────────────────┼────────────────────────┼────────────────┼────────────────────────┤\n",
              "│ lambda_18 (<span style=\"color: #0087ff; text-decoration-color: #0087ff\">Lambda</span>)        │ (<span style=\"color: #00d7ff; text-decoration-color: #00d7ff\">None</span>, <span style=\"color: #00af00; text-decoration-color: #00af00\">10</span>, <span style=\"color: #00af00; text-decoration-color: #00af00\">128</span>)        │              <span style=\"color: #00af00; text-decoration-color: #00af00\">0</span> │ input_layer_4[<span style=\"color: #00af00; text-decoration-color: #00af00\">0</span>][<span style=\"color: #00af00; text-decoration-color: #00af00\">0</span>]    │\n",
              "├───────────────────────────┼────────────────────────┼────────────────┼────────────────────────┤\n",
              "│ reshape_42 (<span style=\"color: #0087ff; text-decoration-color: #0087ff\">Reshape</span>)      │ (<span style=\"color: #00d7ff; text-decoration-color: #00d7ff\">None</span>, <span style=\"color: #00af00; text-decoration-color: #00af00\">10</span>, <span style=\"color: #00af00; text-decoration-color: #00af00\">128</span>, <span style=\"color: #00af00; text-decoration-color: #00af00\">1</span>)     │              <span style=\"color: #00af00; text-decoration-color: #00af00\">0</span> │ lambda_17[<span style=\"color: #00af00; text-decoration-color: #00af00\">0</span>][<span style=\"color: #00af00; text-decoration-color: #00af00\">0</span>]        │\n",
              "├───────────────────────────┼────────────────────────┼────────────────┼────────────────────────┤\n",
              "│ reshape_44 (<span style=\"color: #0087ff; text-decoration-color: #0087ff\">Reshape</span>)      │ (<span style=\"color: #00d7ff; text-decoration-color: #00d7ff\">None</span>, <span style=\"color: #00af00; text-decoration-color: #00af00\">10</span>, <span style=\"color: #00af00; text-decoration-color: #00af00\">128</span>, <span style=\"color: #00af00; text-decoration-color: #00af00\">1</span>)     │              <span style=\"color: #00af00; text-decoration-color: #00af00\">0</span> │ lambda_18[<span style=\"color: #00af00; text-decoration-color: #00af00\">0</span>][<span style=\"color: #00af00; text-decoration-color: #00af00\">0</span>]        │\n",
              "├───────────────────────────┼────────────────────────┼────────────────┼────────────────────────┤\n",
              "│ conv2d_17 (<span style=\"color: #0087ff; text-decoration-color: #0087ff\">Conv2D</span>)        │ (<span style=\"color: #00d7ff; text-decoration-color: #00d7ff\">None</span>, <span style=\"color: #00af00; text-decoration-color: #00af00\">6</span>, <span style=\"color: #00af00; text-decoration-color: #00af00\">124</span>, <span style=\"color: #00af00; text-decoration-color: #00af00\">2</span>)      │             <span style=\"color: #00af00; text-decoration-color: #00af00\">52</span> │ reshape_42[<span style=\"color: #00af00; text-decoration-color: #00af00\">0</span>][<span style=\"color: #00af00; text-decoration-color: #00af00\">0</span>]       │\n",
              "├───────────────────────────┼────────────────────────┼────────────────┼────────────────────────┤\n",
              "│ conv2d_18 (<span style=\"color: #0087ff; text-decoration-color: #0087ff\">Conv2D</span>)        │ (<span style=\"color: #00d7ff; text-decoration-color: #00d7ff\">None</span>, <span style=\"color: #00af00; text-decoration-color: #00af00\">6</span>, <span style=\"color: #00af00; text-decoration-color: #00af00\">124</span>, <span style=\"color: #00af00; text-decoration-color: #00af00\">2</span>)      │             <span style=\"color: #00af00; text-decoration-color: #00af00\">52</span> │ reshape_44[<span style=\"color: #00af00; text-decoration-color: #00af00\">0</span>][<span style=\"color: #00af00; text-decoration-color: #00af00\">0</span>]       │\n",
              "├───────────────────────────┼────────────────────────┼────────────────┼────────────────────────┤\n",
              "│ reshape_43 (<span style=\"color: #0087ff; text-decoration-color: #0087ff\">Reshape</span>)      │ (<span style=\"color: #00d7ff; text-decoration-color: #00d7ff\">None</span>, <span style=\"color: #00af00; text-decoration-color: #00af00\">1</span>, <span style=\"color: #00af00; text-decoration-color: #00af00\">6</span>, <span style=\"color: #00af00; text-decoration-color: #00af00\">124</span>, <span style=\"color: #00af00; text-decoration-color: #00af00\">2</span>)   │              <span style=\"color: #00af00; text-decoration-color: #00af00\">0</span> │ conv2d_17[<span style=\"color: #00af00; text-decoration-color: #00af00\">0</span>][<span style=\"color: #00af00; text-decoration-color: #00af00\">0</span>]        │\n",
              "├───────────────────────────┼────────────────────────┼────────────────┼────────────────────────┤\n",
              "│ reshape_45 (<span style=\"color: #0087ff; text-decoration-color: #0087ff\">Reshape</span>)      │ (<span style=\"color: #00d7ff; text-decoration-color: #00d7ff\">None</span>, <span style=\"color: #00af00; text-decoration-color: #00af00\">1</span>, <span style=\"color: #00af00; text-decoration-color: #00af00\">6</span>, <span style=\"color: #00af00; text-decoration-color: #00af00\">124</span>, <span style=\"color: #00af00; text-decoration-color: #00af00\">2</span>)   │              <span style=\"color: #00af00; text-decoration-color: #00af00\">0</span> │ conv2d_18[<span style=\"color: #00af00; text-decoration-color: #00af00\">0</span>][<span style=\"color: #00af00; text-decoration-color: #00af00\">0</span>]        │\n",
              "├───────────────────────────┼────────────────────────┼────────────────┼────────────────────────┤\n",
              "│ concatenate_4             │ (<span style=\"color: #00d7ff; text-decoration-color: #00d7ff\">None</span>, <span style=\"color: #00af00; text-decoration-color: #00af00\">2</span>, <span style=\"color: #00af00; text-decoration-color: #00af00\">6</span>, <span style=\"color: #00af00; text-decoration-color: #00af00\">124</span>, <span style=\"color: #00af00; text-decoration-color: #00af00\">2</span>)   │              <span style=\"color: #00af00; text-decoration-color: #00af00\">0</span> │ reshape_43[<span style=\"color: #00af00; text-decoration-color: #00af00\">0</span>][<span style=\"color: #00af00; text-decoration-color: #00af00\">0</span>],      │\n",
              "│ (<span style=\"color: #0087ff; text-decoration-color: #0087ff\">Concatenate</span>)             │                        │                │ reshape_45[<span style=\"color: #00af00; text-decoration-color: #00af00\">0</span>][<span style=\"color: #00af00; text-decoration-color: #00af00\">0</span>]       │\n",
              "├───────────────────────────┼────────────────────────┼────────────────┼────────────────────────┤\n",
              "│ reshape_46 (<span style=\"color: #0087ff; text-decoration-color: #0087ff\">Reshape</span>)      │ (<span style=\"color: #00d7ff; text-decoration-color: #00d7ff\">None</span>, <span style=\"color: #00af00; text-decoration-color: #00af00\">2</span>, <span style=\"color: #00af00; text-decoration-color: #00af00\">1488</span>)        │              <span style=\"color: #00af00; text-decoration-color: #00af00\">0</span> │ concatenate_4[<span style=\"color: #00af00; text-decoration-color: #00af00\">0</span>][<span style=\"color: #00af00; text-decoration-color: #00af00\">0</span>]    │\n",
              "├───────────────────────────┼────────────────────────┼────────────────┼────────────────────────┤\n",
              "│ dense_16 (<span style=\"color: #0087ff; text-decoration-color: #0087ff\">Dense</span>)          │ (<span style=\"color: #00d7ff; text-decoration-color: #00d7ff\">None</span>, <span style=\"color: #00af00; text-decoration-color: #00af00\">2</span>, <span style=\"color: #00af00; text-decoration-color: #00af00\">1280</span>)        │      <span style=\"color: #00af00; text-decoration-color: #00af00\">1,905,920</span> │ reshape_46[<span style=\"color: #00af00; text-decoration-color: #00af00\">0</span>][<span style=\"color: #00af00; text-decoration-color: #00af00\">0</span>]       │\n",
              "├───────────────────────────┼────────────────────────┼────────────────┼────────────────────────┤\n",
              "│ dense_17 (<span style=\"color: #0087ff; text-decoration-color: #0087ff\">Dense</span>)          │ (<span style=\"color: #00d7ff; text-decoration-color: #00d7ff\">None</span>, <span style=\"color: #00af00; text-decoration-color: #00af00\">2</span>, <span style=\"color: #00af00; text-decoration-color: #00af00\">1280</span>)        │      <span style=\"color: #00af00; text-decoration-color: #00af00\">1,639,680</span> │ dense_16[<span style=\"color: #00af00; text-decoration-color: #00af00\">0</span>][<span style=\"color: #00af00; text-decoration-color: #00af00\">0</span>]         │\n",
              "├───────────────────────────┼────────────────────────┼────────────────┼────────────────────────┤\n",
              "│ bidirectional_4           │ (<span style=\"color: #00d7ff; text-decoration-color: #00d7ff\">None</span>, <span style=\"color: #00af00; text-decoration-color: #00af00\">2</span>, <span style=\"color: #00af00; text-decoration-color: #00af00\">1000</span>)        │      <span style=\"color: #00af00; text-decoration-color: #00af00\">7,124,000</span> │ dense_17[<span style=\"color: #00af00; text-decoration-color: #00af00\">0</span>][<span style=\"color: #00af00; text-decoration-color: #00af00\">0</span>]         │\n",
              "│ (<span style=\"color: #0087ff; text-decoration-color: #0087ff\">Bidirectional</span>)           │                        │                │                        │\n",
              "├───────────────────────────┼────────────────────────┼────────────────┼────────────────────────┤\n",
              "│ dense_18 (<span style=\"color: #0087ff; text-decoration-color: #0087ff\">Dense</span>)          │ (<span style=\"color: #00d7ff; text-decoration-color: #00d7ff\">None</span>, <span style=\"color: #00af00; text-decoration-color: #00af00\">2</span>, <span style=\"color: #00af00; text-decoration-color: #00af00\">12800</span>)       │     <span style=\"color: #00af00; text-decoration-color: #00af00\">12,812,800</span> │ bidirectional_4[<span style=\"color: #00af00; text-decoration-color: #00af00\">0</span>][<span style=\"color: #00af00; text-decoration-color: #00af00\">0</span>]  │\n",
              "├───────────────────────────┼────────────────────────┼────────────────┼────────────────────────┤\n",
              "│ dense_19 (<span style=\"color: #0087ff; text-decoration-color: #0087ff\">Dense</span>)          │ (<span style=\"color: #00d7ff; text-decoration-color: #00d7ff\">None</span>, <span style=\"color: #00af00; text-decoration-color: #00af00\">2</span>, <span style=\"color: #00af00; text-decoration-color: #00af00\">12800</span>)       │    <span style=\"color: #00af00; text-decoration-color: #00af00\">163,852,800</span> │ dense_18[<span style=\"color: #00af00; text-decoration-color: #00af00\">0</span>][<span style=\"color: #00af00; text-decoration-color: #00af00\">0</span>]         │\n",
              "├───────────────────────────┼────────────────────────┼────────────────┼────────────────────────┤\n",
              "│ dense_20 (<span style=\"color: #0087ff; text-decoration-color: #0087ff\">Dense</span>)          │ (<span style=\"color: #00d7ff; text-decoration-color: #00d7ff\">None</span>, <span style=\"color: #00af00; text-decoration-color: #00af00\">2</span>, <span style=\"color: #00af00; text-decoration-color: #00af00\">12800</span>)       │    <span style=\"color: #00af00; text-decoration-color: #00af00\">163,852,800</span> │ dense_19[<span style=\"color: #00af00; text-decoration-color: #00af00\">0</span>][<span style=\"color: #00af00; text-decoration-color: #00af00\">0</span>]         │\n",
              "├───────────────────────────┼────────────────────────┼────────────────┼────────────────────────┤\n",
              "│ dense_21 (<span style=\"color: #0087ff; text-decoration-color: #0087ff\">Dense</span>)          │ (<span style=\"color: #00d7ff; text-decoration-color: #00d7ff\">None</span>, <span style=\"color: #00af00; text-decoration-color: #00af00\">2</span>, <span style=\"color: #00af00; text-decoration-color: #00af00\">1280</span>)        │     <span style=\"color: #00af00; text-decoration-color: #00af00\">16,385,280</span> │ dense_20[<span style=\"color: #00af00; text-decoration-color: #00af00\">0</span>][<span style=\"color: #00af00; text-decoration-color: #00af00\">0</span>]         │\n",
              "├───────────────────────────┼────────────────────────┼────────────────┼────────────────────────┤\n",
              "│ reshape_47 (<span style=\"color: #0087ff; text-decoration-color: #0087ff\">Reshape</span>)      │ (<span style=\"color: #00d7ff; text-decoration-color: #00d7ff\">None</span>, <span style=\"color: #00af00; text-decoration-color: #00af00\">2</span>, <span style=\"color: #00af00; text-decoration-color: #00af00\">10</span>, <span style=\"color: #00af00; text-decoration-color: #00af00\">128</span>)     │              <span style=\"color: #00af00; text-decoration-color: #00af00\">0</span> │ dense_21[<span style=\"color: #00af00; text-decoration-color: #00af00\">0</span>][<span style=\"color: #00af00; text-decoration-color: #00af00\">0</span>]         │\n",
              "└───────────────────────────┴────────────────────────┴────────────────┴────────────────────────┘\n",
              "</pre>\n"
            ]
          },
          "metadata": {}
        },
        {
          "output_type": "display_data",
          "data": {
            "text/plain": [
              "\u001b[1m Total params: \u001b[0m\u001b[38;5;34m367,573,384\u001b[0m (1.37 GB)\n"
            ],
            "text/html": [
              "<pre style=\"white-space:pre;overflow-x:auto;line-height:normal;font-family:Menlo,'DejaVu Sans Mono',consolas,'Courier New',monospace\"><span style=\"font-weight: bold\"> Total params: </span><span style=\"color: #00af00; text-decoration-color: #00af00\">367,573,384</span> (1.37 GB)\n",
              "</pre>\n"
            ]
          },
          "metadata": {}
        },
        {
          "output_type": "display_data",
          "data": {
            "text/plain": [
              "\u001b[1m Trainable params: \u001b[0m\u001b[38;5;34m367,573,384\u001b[0m (1.37 GB)\n"
            ],
            "text/html": [
              "<pre style=\"white-space:pre;overflow-x:auto;line-height:normal;font-family:Menlo,'DejaVu Sans Mono',consolas,'Courier New',monospace\"><span style=\"font-weight: bold\"> Trainable params: </span><span style=\"color: #00af00; text-decoration-color: #00af00\">367,573,384</span> (1.37 GB)\n",
              "</pre>\n"
            ]
          },
          "metadata": {}
        },
        {
          "output_type": "display_data",
          "data": {
            "text/plain": [
              "\u001b[1m Non-trainable params: \u001b[0m\u001b[38;5;34m0\u001b[0m (0.00 B)\n"
            ],
            "text/html": [
              "<pre style=\"white-space:pre;overflow-x:auto;line-height:normal;font-family:Menlo,'DejaVu Sans Mono',consolas,'Courier New',monospace\"><span style=\"font-weight: bold\"> Non-trainable params: </span><span style=\"color: #00af00; text-decoration-color: #00af00\">0</span> (0.00 B)\n",
              "</pre>\n"
            ]
          },
          "metadata": {}
        }
      ]
    },
    {
      "cell_type": "code",
      "source": [
        "\n",
        "model.compile(optimizer=tf.keras.optimizers.Adam(), loss='categorical_crossentropy')"
      ],
      "metadata": {
        "id": "aNLjA4eevTv5"
      },
      "execution_count": 43,
      "outputs": []
    },
    {
      "cell_type": "code",
      "source": [
        "model.fit(np.array(x[0:1]), np.array(y[0:1]), epochs = 50)\n"
      ],
      "metadata": {
        "id": "HqSc_t6RAYM0",
        "colab": {
          "base_uri": "https://localhost:8080/",
          "height": 686
        },
        "outputId": "fd5f7d2d-c411-4dc4-f3e8-cdf8ab32f775"
      },
      "execution_count": 44,
      "outputs": [
        {
          "output_type": "stream",
          "name": "stdout",
          "text": [
            "Epoch 1/50\n",
            "\u001b[1m1/1\u001b[0m \u001b[32m━━━━━━━━━━━━━━━━━━━━\u001b[0m\u001b[37m\u001b[0m \u001b[1m21s\u001b[0m 21s/step - loss: 1.9847\n",
            "Epoch 2/50\n",
            "\u001b[1m1/1\u001b[0m \u001b[32m━━━━━━━━━━━━━━━━━━━━\u001b[0m\u001b[37m\u001b[0m \u001b[1m17s\u001b[0m 17s/step - loss: 0.4277\n",
            "Epoch 3/50\n",
            "\u001b[1m1/1\u001b[0m \u001b[32m━━━━━━━━━━━━━━━━━━━━\u001b[0m\u001b[37m\u001b[0m \u001b[1m21s\u001b[0m 21s/step - loss: 0.3639\n",
            "Epoch 4/50\n",
            "\u001b[1m1/1\u001b[0m \u001b[32m━━━━━━━━━━━━━━━━━━━━\u001b[0m\u001b[37m\u001b[0m \u001b[1m19s\u001b[0m 19s/step - loss: 0.3570\n",
            "Epoch 5/50\n",
            "\u001b[1m1/1\u001b[0m \u001b[32m━━━━━━━━━━━━━━━━━━━━\u001b[0m\u001b[37m\u001b[0m \u001b[1m22s\u001b[0m 22s/step - loss: 0.3478\n",
            "Epoch 6/50\n",
            "\u001b[1m1/1\u001b[0m \u001b[32m━━━━━━━━━━━━━━━━━━━━\u001b[0m\u001b[37m\u001b[0m \u001b[1m20s\u001b[0m 20s/step - loss: 0.3498\n",
            "Epoch 7/50\n",
            "\u001b[1m1/1\u001b[0m \u001b[32m━━━━━━━━━━━━━━━━━━━━\u001b[0m\u001b[37m\u001b[0m \u001b[1m21s\u001b[0m 21s/step - loss: 0.3513\n",
            "Epoch 8/50\n",
            "\u001b[1m1/1\u001b[0m \u001b[32m━━━━━━━━━━━━━━━━━━━━\u001b[0m\u001b[37m\u001b[0m \u001b[1m10s\u001b[0m 10s/step - loss: 0.3522\n",
            "Epoch 9/50\n",
            "\u001b[1m1/1\u001b[0m \u001b[32m━━━━━━━━━━━━━━━━━━━━\u001b[0m\u001b[37m\u001b[0m \u001b[1m12s\u001b[0m 12s/step - loss: 0.3525\n",
            "Epoch 10/50\n",
            "\u001b[1m1/1\u001b[0m \u001b[32m━━━━━━━━━━━━━━━━━━━━\u001b[0m\u001b[37m\u001b[0m \u001b[1m19s\u001b[0m 19s/step - loss: 0.3523\n",
            "Epoch 11/50\n",
            "\u001b[1m1/1\u001b[0m \u001b[32m━━━━━━━━━━━━━━━━━━━━\u001b[0m\u001b[37m\u001b[0m \u001b[1m13s\u001b[0m 13s/step - loss: 0.3518\n",
            "Epoch 12/50\n"
          ]
        },
        {
          "output_type": "error",
          "ename": "KeyboardInterrupt",
          "evalue": "",
          "traceback": [
            "\u001b[0;31m---------------------------------------------------------------------------\u001b[0m",
            "\u001b[0;31mKeyboardInterrupt\u001b[0m                         Traceback (most recent call last)",
            "\u001b[0;32m<ipython-input-44-ae67a9b1cb56>\u001b[0m in \u001b[0;36m<cell line: 1>\u001b[0;34m()\u001b[0m\n\u001b[0;32m----> 1\u001b[0;31m \u001b[0mmodel\u001b[0m\u001b[0;34m.\u001b[0m\u001b[0mfit\u001b[0m\u001b[0;34m(\u001b[0m\u001b[0mnp\u001b[0m\u001b[0;34m.\u001b[0m\u001b[0marray\u001b[0m\u001b[0;34m(\u001b[0m\u001b[0mx\u001b[0m\u001b[0;34m[\u001b[0m\u001b[0;36m0\u001b[0m\u001b[0;34m:\u001b[0m\u001b[0;36m1\u001b[0m\u001b[0;34m]\u001b[0m\u001b[0;34m)\u001b[0m\u001b[0;34m,\u001b[0m \u001b[0mnp\u001b[0m\u001b[0;34m.\u001b[0m\u001b[0marray\u001b[0m\u001b[0;34m(\u001b[0m\u001b[0my\u001b[0m\u001b[0;34m[\u001b[0m\u001b[0;36m0\u001b[0m\u001b[0;34m:\u001b[0m\u001b[0;36m1\u001b[0m\u001b[0;34m]\u001b[0m\u001b[0;34m)\u001b[0m\u001b[0;34m,\u001b[0m \u001b[0mepochs\u001b[0m \u001b[0;34m=\u001b[0m \u001b[0;36m50\u001b[0m\u001b[0;34m)\u001b[0m\u001b[0;34m\u001b[0m\u001b[0;34m\u001b[0m\u001b[0m\n\u001b[0m",
            "\u001b[0;32m/usr/local/lib/python3.10/dist-packages/keras/src/utils/traceback_utils.py\u001b[0m in \u001b[0;36merror_handler\u001b[0;34m(*args, **kwargs)\u001b[0m\n\u001b[1;32m    115\u001b[0m         \u001b[0mfiltered_tb\u001b[0m \u001b[0;34m=\u001b[0m \u001b[0;32mNone\u001b[0m\u001b[0;34m\u001b[0m\u001b[0;34m\u001b[0m\u001b[0m\n\u001b[1;32m    116\u001b[0m         \u001b[0;32mtry\u001b[0m\u001b[0;34m:\u001b[0m\u001b[0;34m\u001b[0m\u001b[0;34m\u001b[0m\u001b[0m\n\u001b[0;32m--> 117\u001b[0;31m             \u001b[0;32mreturn\u001b[0m \u001b[0mfn\u001b[0m\u001b[0;34m(\u001b[0m\u001b[0;34m*\u001b[0m\u001b[0margs\u001b[0m\u001b[0;34m,\u001b[0m \u001b[0;34m**\u001b[0m\u001b[0mkwargs\u001b[0m\u001b[0;34m)\u001b[0m\u001b[0;34m\u001b[0m\u001b[0;34m\u001b[0m\u001b[0m\n\u001b[0m\u001b[1;32m    118\u001b[0m         \u001b[0;32mexcept\u001b[0m \u001b[0mException\u001b[0m \u001b[0;32mas\u001b[0m \u001b[0me\u001b[0m\u001b[0;34m:\u001b[0m\u001b[0;34m\u001b[0m\u001b[0;34m\u001b[0m\u001b[0m\n\u001b[1;32m    119\u001b[0m             \u001b[0mfiltered_tb\u001b[0m \u001b[0;34m=\u001b[0m \u001b[0m_process_traceback_frames\u001b[0m\u001b[0;34m(\u001b[0m\u001b[0me\u001b[0m\u001b[0;34m.\u001b[0m\u001b[0m__traceback__\u001b[0m\u001b[0;34m)\u001b[0m\u001b[0;34m\u001b[0m\u001b[0;34m\u001b[0m\u001b[0m\n",
            "\u001b[0;32m/usr/local/lib/python3.10/dist-packages/keras/src/backend/tensorflow/trainer.py\u001b[0m in \u001b[0;36mfit\u001b[0;34m(self, x, y, batch_size, epochs, verbose, callbacks, validation_split, validation_data, shuffle, class_weight, sample_weight, initial_epoch, steps_per_epoch, validation_steps, validation_batch_size, validation_freq)\u001b[0m\n\u001b[1;32m    317\u001b[0m             \u001b[0;32mwith\u001b[0m \u001b[0mepoch_iterator\u001b[0m\u001b[0;34m.\u001b[0m\u001b[0mcatch_stop_iteration\u001b[0m\u001b[0;34m(\u001b[0m\u001b[0;34m)\u001b[0m\u001b[0;34m:\u001b[0m\u001b[0;34m\u001b[0m\u001b[0;34m\u001b[0m\u001b[0m\n\u001b[1;32m    318\u001b[0m                 \u001b[0;32mfor\u001b[0m \u001b[0mstep\u001b[0m\u001b[0;34m,\u001b[0m \u001b[0miterator\u001b[0m \u001b[0;32min\u001b[0m \u001b[0mepoch_iterator\u001b[0m\u001b[0;34m.\u001b[0m\u001b[0menumerate_epoch\u001b[0m\u001b[0;34m(\u001b[0m\u001b[0;34m)\u001b[0m\u001b[0;34m:\u001b[0m\u001b[0;34m\u001b[0m\u001b[0;34m\u001b[0m\u001b[0m\n\u001b[0;32m--> 319\u001b[0;31m                     \u001b[0mcallbacks\u001b[0m\u001b[0;34m.\u001b[0m\u001b[0mon_train_batch_begin\u001b[0m\u001b[0;34m(\u001b[0m\u001b[0mstep\u001b[0m\u001b[0;34m)\u001b[0m\u001b[0;34m\u001b[0m\u001b[0;34m\u001b[0m\u001b[0m\n\u001b[0m\u001b[1;32m    320\u001b[0m                     \u001b[0mlogs\u001b[0m \u001b[0;34m=\u001b[0m \u001b[0mself\u001b[0m\u001b[0;34m.\u001b[0m\u001b[0mtrain_function\u001b[0m\u001b[0;34m(\u001b[0m\u001b[0miterator\u001b[0m\u001b[0;34m)\u001b[0m\u001b[0;34m\u001b[0m\u001b[0;34m\u001b[0m\u001b[0m\n\u001b[1;32m    321\u001b[0m                     \u001b[0mlogs\u001b[0m \u001b[0;34m=\u001b[0m \u001b[0mself\u001b[0m\u001b[0;34m.\u001b[0m\u001b[0m_pythonify_logs\u001b[0m\u001b[0;34m(\u001b[0m\u001b[0mlogs\u001b[0m\u001b[0;34m)\u001b[0m\u001b[0;34m\u001b[0m\u001b[0;34m\u001b[0m\u001b[0m\n",
            "\u001b[0;32m/usr/local/lib/python3.10/dist-packages/keras/src/callbacks/callback_list.py\u001b[0m in \u001b[0;36mon_train_batch_begin\u001b[0;34m(self, batch, logs)\u001b[0m\n\u001b[1;32m     96\u001b[0m             \u001b[0mcallback\u001b[0m\u001b[0;34m.\u001b[0m\u001b[0mon_epoch_end\u001b[0m\u001b[0;34m(\u001b[0m\u001b[0mepoch\u001b[0m\u001b[0;34m,\u001b[0m \u001b[0mlogs\u001b[0m\u001b[0;34m)\u001b[0m\u001b[0;34m\u001b[0m\u001b[0;34m\u001b[0m\u001b[0m\n\u001b[1;32m     97\u001b[0m \u001b[0;34m\u001b[0m\u001b[0m\n\u001b[0;32m---> 98\u001b[0;31m     \u001b[0;32mdef\u001b[0m \u001b[0mon_train_batch_begin\u001b[0m\u001b[0;34m(\u001b[0m\u001b[0mself\u001b[0m\u001b[0;34m,\u001b[0m \u001b[0mbatch\u001b[0m\u001b[0;34m,\u001b[0m \u001b[0mlogs\u001b[0m\u001b[0;34m=\u001b[0m\u001b[0;32mNone\u001b[0m\u001b[0;34m)\u001b[0m\u001b[0;34m:\u001b[0m\u001b[0;34m\u001b[0m\u001b[0;34m\u001b[0m\u001b[0m\n\u001b[0m\u001b[1;32m     99\u001b[0m         \u001b[0mlogs\u001b[0m \u001b[0;34m=\u001b[0m \u001b[0mlogs\u001b[0m \u001b[0;32mor\u001b[0m \u001b[0;34m{\u001b[0m\u001b[0;34m}\u001b[0m\u001b[0;34m\u001b[0m\u001b[0;34m\u001b[0m\u001b[0m\n\u001b[1;32m    100\u001b[0m         \u001b[0;32mfor\u001b[0m \u001b[0mcallback\u001b[0m \u001b[0;32min\u001b[0m \u001b[0mself\u001b[0m\u001b[0;34m.\u001b[0m\u001b[0mcallbacks\u001b[0m\u001b[0;34m:\u001b[0m\u001b[0;34m\u001b[0m\u001b[0;34m\u001b[0m\u001b[0m\n",
            "\u001b[0;31mKeyboardInterrupt\u001b[0m: "
          ]
        }
      ]
    },
    {
      "cell_type": "code",
      "source": [
        "!pip install midiutil\n",
        "import os\n",
        "#sample code\n",
        "file = 'out.mid'\n",
        "from midiutil.MidiFile import MIDIFile\n"
      ],
      "metadata": {
        "id": "twMINxmH5j-t",
        "colab": {
          "base_uri": "https://localhost:8080/"
        },
        "outputId": "3075ba79-13b0-492a-d9e8-0aaf89e67e49"
      },
      "execution_count": 14,
      "outputs": [
        {
          "output_type": "stream",
          "name": "stdout",
          "text": [
            "Collecting midiutil\n",
            "  Downloading MIDIUtil-1.2.1.tar.gz (1.0 MB)\n",
            "\u001b[2K     \u001b[90m━━━━━━━━━━━━━━━━━━━━━━━━━━━━━━━━━━━━━━━━\u001b[0m \u001b[32m1.0/1.0 MB\u001b[0m \u001b[31m13.5 MB/s\u001b[0m eta \u001b[36m0:00:00\u001b[0m\n",
            "\u001b[?25h  Preparing metadata (setup.py) ... \u001b[?25l\u001b[?25hdone\n",
            "Building wheels for collected packages: midiutil\n",
            "  Building wheel for midiutil (setup.py) ... \u001b[?25l\u001b[?25hdone\n",
            "  Created wheel for midiutil: filename=MIDIUtil-1.2.1-py3-none-any.whl size=54569 sha256=51a4f77f247854d39f349c185a93ad2ef0d929ae2048a5c295d947b416c0888e\n",
            "  Stored in directory: /root/.cache/pip/wheels/af/43/4a/00b5e4f2fe5e2cd6e92b461995a3a97a2cebb30ab5783501b0\n",
            "Successfully built midiutil\n",
            "Installing collected packages: midiutil\n",
            "Successfully installed midiutil-1.2.1\n"
          ]
        }
      ]
    },
    {
      "cell_type": "code",
      "source": [
        "\n",
        "def deNoise(output, file):\n",
        "\n",
        "\n",
        "  with open(os.path.join('../content/gdrive/MyDrive/', file), 'w') as fp:\n",
        "    pass\n",
        "  for i in range(len(output)):\n",
        "    for j in range(len(output[i])):\n",
        "      if output[i][j] > 0.05:\n",
        "        output[i][j] = output[i][j]\n",
        "      else:\n",
        "        output[i][j] = 0\n",
        "  #do groupings\n",
        "  stillGroupings = True\n",
        "  index = 0\n",
        "  current_timeSaved = 0\n",
        "  mf = MIDIFile(1)     # only 1 track\n",
        "  track = 0   # the only track\n",
        "\n",
        "  time = 0    # start at the beginning\n",
        "  mf.addTrackName(track, time, \"Sample Track\")\n",
        "  mf.addTempo(track, time, 120)\n",
        "\n",
        "  # add some notes\n",
        "  channel = 0\n",
        "  backlog = []\n",
        "  while stillGroupings:\n",
        "    #ipdb.set_trace()\n",
        "    #find first note\n",
        "    foundFirstNote = False\n",
        "    firstNote = []\n",
        "    for i in range(len(output)):\n",
        "      for j in range(len(output[i])):\n",
        "        if output[i][j] > 0.05 and not foundFirstNote:\n",
        "          foundFirstNote = True\n",
        "          firstNote = [i, j]\n",
        "\n",
        "\n",
        "    groupEnd = False\n",
        "    if not foundFirstNote:\n",
        "      stillGroupings = False\n",
        "    else:\n",
        "      biggestvelocity = output[firstNote[0]][firstNote[1]]\n",
        "      groupIndex = 0\n",
        "      lastNote = [firstNote[0] + 1, firstNote[1]]\n",
        "      while not groupEnd:\n",
        "        if firstNote[0] + groupIndex + 3 >= len(output):\n",
        "          groupEnd = True\n",
        "          lastNote = [len(output), firstNote[1]]\n",
        "        else:\n",
        "          biggestvelocity = max((biggestvelocity, output[firstNote[0] + groupIndex + 1][firstNote[1]], output[firstNote[0] + groupIndex + 2][firstNote[1]], output[firstNote[0] + groupIndex + 3][firstNote[1]]))\n",
        "\n",
        "          if output[firstNote[0] + groupIndex + 1][firstNote[1]] <= 0.05 and output[firstNote[0] + groupIndex + 2][firstNote[1]] <= 0.05 and output[firstNote[0] + groupIndex + 3][firstNote[1]] <= 0.05:\n",
        "            groupEnd = True\n",
        "          else:\n",
        "            lastNote = [firstNote[0] + groupIndex + 1, firstNote[1]]\n",
        "            groupIndex += 1\n",
        "      if firstNote[0] == 1 and firstNote[1] == 76:  ipdb.set_trace()\n",
        "      for i in range(lastNote[0] - firstNote[0]):\n",
        "        if firstNote[0] == 1 and firstNote[1] == 76:  ipdb.set_trace()\n",
        "        output[firstNote[0] + i][firstNote[1]] = 0\n",
        "      # create your MIDI object\n",
        "      #ipdb.set_trace()\n",
        "\n",
        "      pitch = firstNote[1]           # C4 (middle C)\n",
        "      time = firstNote[0]          # start on beat 0\n",
        "      duration = lastNote[0] - firstNote[0]         # 1 beat long\n",
        "      mf.addNote(track, channel, pitch, time * 48, duration, (int)(biggestvelocity * 128))\n",
        "      print('added note (' + str(time) + ', ' + str(pitch) + ') at ' + str((int)(biggestvelocity * 128)) + ' velocity')\n",
        "  with open('../content/gdrive/MyDrive/' + file, 'wb') as outf:\n",
        "    mf.writeFile(outf)\n",
        "  index += 1\n",
        "\n",
        "\n",
        "\n"
      ],
      "metadata": {
        "id": "TQQ5thlrOYhp"
      },
      "execution_count": 21,
      "outputs": []
    },
    {
      "cell_type": "code",
      "source": [
        "raw_output = model.predict_on_batch(np.array(x[0:1]))\n",
        "\n",
        "print(raw_output.shape)\n",
        "\n",
        "output = np.zeros((1 * (10 - 5) + 10, 128))\n",
        "for i in range(len(output)):\n",
        "  for j in range(128):\n",
        "    if i >= 5 and i < 1 * (10 - 5) + 5:\n",
        "      output[i][j] = (raw_output[0][(int)((i - 5) / 5)][5 + i % 5][j]) / 2 + (raw_output[0][(int)((i - 5) / 5) + 1][i % 10][j]) / 2\n",
        "    else:\n",
        "      if i >= 5:\n",
        "        output[i][j] = raw_output[0][(int)((i - 5) / 5)][i % 5][j]\n",
        "      else:\n",
        "        output[i][j] = raw_output[0][(int)(i / 5)][i % 5][j]\n",
        "\n",
        "\n",
        "\n",
        "deNoise(output, 'out.mid')"
      ],
      "metadata": {
        "colab": {
          "base_uri": "https://localhost:8080/"
        },
        "id": "gBmZ2fAfvXfX",
        "outputId": "78892e26-c5c6-4a67-d1c6-9e19094553a3"
      },
      "execution_count": 45,
      "outputs": [
        {
          "output_type": "stream",
          "name": "stderr",
          "text": [
            "WARNING:tensorflow:5 out of the last 6 calls to <function TensorFlowTrainer.make_predict_function.<locals>.one_step_on_data_distributed at 0x7eb91c6cc310> triggered tf.function retracing. Tracing is expensive and the excessive number of tracings could be due to (1) creating @tf.function repeatedly in a loop, (2) passing tensors with different shapes, (3) passing Python objects instead of tensors. For (1), please define your @tf.function outside of the loop. For (2), @tf.function has reduce_retracing=True option that can avoid unnecessary retracing. For (3), please refer to https://www.tensorflow.org/guide/function#controlling_retracing and https://www.tensorflow.org/api_docs/python/tf/function for  more details.\n"
          ]
        },
        {
          "output_type": "stream",
          "name": "stdout",
          "text": [
            "(1, 2, 10, 128)\n",
            "added note (0, 56) at 128 velocity\n",
            "added note (0, 84) at 128 velocity\n",
            "added note (4, 54) at 128 velocity\n",
            "added note (9, 54) at 128 velocity\n",
            "added note (14, 54) at 128 velocity\n"
          ]
        }
      ]
    },
    {
      "cell_type": "code",
      "source": [
        "plt.imshow(raw_output[0][1])\n",
        "plt.show()\n"
      ],
      "metadata": {
        "colab": {
          "base_uri": "https://localhost:8080/",
          "height": 103
        },
        "id": "dgFFwU8Klzox",
        "outputId": "83686021-72dc-43b2-db54-8045e5819abf"
      },
      "execution_count": 47,
      "outputs": [
        {
          "output_type": "display_data",
          "data": {
            "text/plain": [
              "<Figure size 640x480 with 1 Axes>"
            ],
            "image/png": "[encoded data removed]"
          },
          "metadata": {}
        }
      ]
    },
    {
      "cell_type": "code",
      "source": [
        "plt.imshow(x[0][0])\n",
        "plt.show()"
      ],
      "metadata": {
        "colab": {
          "base_uri": "https://localhost:8080/",
          "height": 103
        },
        "id": "SZ58vbzho4I8",
        "outputId": "5a690a34-978a-4922-e8c9-016ceb4b9864"
      },
      "execution_count": 38,
      "outputs": [
        {
          "output_type": "display_data",
          "data": {
            "text/plain": [
              "<Figure size 640x480 with 1 Axes>"
            ],
            "image/png": "[encoded data removed]"
          },
          "metadata": {}
        }
      ]
    },
    {
      "cell_type": "code",
      "source": [
        "plt.imshow(x[0][1])\n",
        "plt.show()"
      ],
      "metadata": {
        "colab": {
          "base_uri": "https://localhost:8080/",
          "height": 103
        },
        "id": "twgVxFdno-sA",
        "outputId": "9455de95-951b-4ce2-a5bf-21a1fa133a70"
      },
      "execution_count": 39,
      "outputs": [
        {
          "output_type": "display_data",
          "data": {
            "text/plain": [
              "<Figure size 640x480 with 1 Axes>"
            ],
            "image/png": "[encoded data removed]"
          },
          "metadata": {}
        }
      ]
    },
    {
      "cell_type": "code",
      "source": [
        "plt.imshow(y[0][0])\n",
        "plt.show()"
      ],
      "metadata": {
        "colab": {
          "base_uri": "https://localhost:8080/",
          "height": 103
        },
        "id": "uMj4B9zfpBV6",
        "outputId": "90d60df5-ef5b-4e6e-850c-9a1e30f89b8a"
      },
      "execution_count": 40,
      "outputs": [
        {
          "output_type": "display_data",
          "data": {
            "text/plain": [
              "<Figure size 640x480 with 1 Axes>"
            ],
            "image/png": "[encoded data removed]"
          },
          "metadata": {}
        }
      ]
    },
    {
      "cell_type": "code",
      "source": [
        "plt.imshow(y[0][1])\n",
        "plt.show()"
      ],
      "metadata": {
        "colab": {
          "base_uri": "https://localhost:8080/",
          "height": 103
        },
        "id": "OQt603K-pFtf",
        "outputId": "e57ef962-d0ae-48b9-907a-e0abcb53728e"
      },
      "execution_count": 41,
      "outputs": [
        {
          "output_type": "display_data",
          "data": {
            "text/plain": [
              "<Figure size 640x480 with 1 Axes>"
            ],
            "image/png": "[encoded data removed]"
          },
          "metadata": {}
        }
      ]
    }
  ],
  "metadata": {
    "colab": {
      "provenance": [],
      "gpuType": "T4",
      "include_colab_link": true
    },
    "kernelspec": {
      "display_name": "Python 3",
      "name": "python3"
    },
    "language_info": {
      "name": "python"
    },
    "accelerator": "GPU"
  },
  "nbformat": 4,
  "nbformat_minor": 0
}